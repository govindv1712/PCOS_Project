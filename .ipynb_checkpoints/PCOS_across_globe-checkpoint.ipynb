{
 "cells": [
  {
   "cell_type": "code",
   "execution_count": 1,
   "id": "5450e5b0-555b-44ad-9153-b267d3ec4a3c",
   "metadata": {},
   "outputs": [
    {
     "name": "stdout",
     "output_type": "stream",
     "text": [
      "<class 'pandas.core.frame.DataFrame'>\n",
      "RangeIndex: 120000 entries, 0 to 119999\n",
      "Data columns (total 17 columns):\n",
      " #   Column                       Non-Null Count   Dtype  \n",
      "---  ------                       --------------   -----  \n",
      " 0   Country                      120000 non-null  object \n",
      " 1   Age                          120000 non-null  int64  \n",
      " 2   BMI                          120000 non-null  object \n",
      " 3   Menstrual Regularity         120000 non-null  object \n",
      " 4   Hirsutism                    120000 non-null  object \n",
      " 5   Acne Severity                59915 non-null   object \n",
      " 6   Family History of PCOS       120000 non-null  object \n",
      " 7   Insulin Resistance           120000 non-null  object \n",
      " 8   Lifestyle Score              120000 non-null  int64  \n",
      " 9   Stress Levels                120000 non-null  object \n",
      " 10  Urban/Rural                  120000 non-null  object \n",
      " 11  Socioeconomic Status         120000 non-null  object \n",
      " 12  Awareness of PCOS            120000 non-null  object \n",
      " 13  Fertility Concerns           120000 non-null  object \n",
      " 14  Undiagnosed PCOS Likelihood  120000 non-null  float64\n",
      " 15  Ethnicity                    120000 non-null  object \n",
      " 16  Diagnosis                    120000 non-null  object \n",
      "dtypes: float64(1), int64(2), object(14)\n",
      "memory usage: 15.6+ MB\n",
      "None\n",
      "(120000, 17)\n"
     ]
    }
   ],
   "source": [
    "import pandas as pd\n",
    "import numpy as np\n",
    "import matplotlib.pyplot as plt\n",
    "import seaborn as sns\n",
    "\n",
    "pcos=pd.read_csv('pcos_data.csv')\n",
    "## Overseeing data shape and structure\n",
    "print(pcos.info())\n",
    "print(pcos.shape)\n",
    "# print(pcos.describe)"
   ]
  },
  {
   "cell_type": "code",
   "execution_count": 2,
   "id": "7824128f-3d15-4633-a90a-87247da79779",
   "metadata": {},
   "outputs": [
    {
     "data": {
      "text/plain": [
       "Index(['Country', 'Age', 'BMI', 'Menstrual Regularity', 'Hirsutism',\n",
       "       'Acne Severity', 'Family History of PCOS', 'Insulin Resistance',\n",
       "       'Lifestyle Score', 'Stress Levels', 'Urban/Rural',\n",
       "       'Socioeconomic Status', 'Awareness of PCOS', 'Fertility Concerns',\n",
       "       'Undiagnosed PCOS Likelihood', 'Ethnicity', 'Diagnosis'],\n",
       "      dtype='object')"
      ]
     },
     "execution_count": 2,
     "metadata": {},
     "output_type": "execute_result"
    }
   ],
   "source": [
    "pcos.columns"
   ]
  },
  {
   "cell_type": "code",
   "execution_count": 6,
   "id": "846ad859-9c5d-43bd-a7f1-6c04fba00de4",
   "metadata": {},
   "outputs": [
    {
     "ename": "TypeError",
     "evalue": "'list' object is not callable",
     "output_type": "error",
     "traceback": [
      "\u001b[1;31m---------------------------------------------------------------------------\u001b[0m",
      "\u001b[1;31mTypeError\u001b[0m                                 Traceback (most recent call last)",
      "Cell \u001b[1;32mIn[6], line 13\u001b[0m\n\u001b[0;32m     10\u001b[0m     plt\u001b[38;5;241m.\u001b[39mpie(df[i]\u001b[38;5;241m.\u001b[39mvalue_counts(),labels\u001b[38;5;241m=\u001b[39mdf[i]\u001b[38;5;241m.\u001b[39mvalue_counts()\u001b[38;5;241m.\u001b[39mindex, autopct\u001b[38;5;241m=\u001b[39m\u001b[38;5;124m'\u001b[39m\u001b[38;5;132;01m%1.1f\u001b[39;00m\u001b[38;5;132;01m%%\u001b[39;00m\u001b[38;5;124m'\u001b[39m )\n\u001b[0;32m     11\u001b[0m     plt\u001b[38;5;241m.\u001b[39mshow()\n\u001b[1;32m---> 13\u001b[0m \u001b[38;5;28;01mfor\u001b[39;00m i \u001b[38;5;129;01min\u001b[39;00m nominal_variable():\n\u001b[0;32m     14\u001b[0m     plot_nominal(Nominal_variable,pcos)\n",
      "\u001b[1;31mTypeError\u001b[0m: 'list' object is not callable"
     ]
    }
   ],
   "source": [
    "## Univariate Analysis\n",
    "nominal_variable = [ 'BMI', 'Menstrual Regularity', 'Hirsutism',\n",
    "       'Acne Severity', 'Family History of PCOS', 'Insulin Resistance',\n",
    "       'Lifestyle Score', 'Stress Levels', 'Urban/Rural',\n",
    "       'Socioeconomic Status', 'Awareness of PCOS', 'Fertility Concerns',\n",
    "       'Undiagnosed PCOS Likelihood', 'Ethnicity', 'Diagnosis']\n",
    "\n",
    "def plot_nominal(list,df):\n",
    "    plt.figure(figsize=(15,5))\n",
    "    plt.pie(df[i].value_counts(),labels=df[i].value_counts().index, autopct='%1.1f%%' )\n",
    "    plt.show()\n",
    "    \n",
    "for i in nominal_variable():\n",
    "    plot_nominal(Nominal_variable,pcos)"
   ]
  },
  {
   "cell_type": "code",
   "execution_count": null,
   "id": "5f663add-3f06-4877-a782-22dff8ee430d",
   "metadata": {},
   "outputs": [],
   "source": []
  },
  {
   "cell_type": "code",
   "execution_count": null,
   "id": "1b6afee0-b6cf-4d66-bb38-3c0460b90669",
   "metadata": {},
   "outputs": [],
   "source": []
  }
 ],
 "metadata": {
  "kernelspec": {
   "display_name": "Python 3 (ipykernel)",
   "language": "python",
   "name": "python3"
  },
  "language_info": {
   "codemirror_mode": {
    "name": "ipython",
    "version": 3
   },
   "file_extension": ".py",
   "mimetype": "text/x-python",
   "name": "python",
   "nbconvert_exporter": "python",
   "pygments_lexer": "ipython3",
   "version": "3.12.4"
  }
 },
 "nbformat": 4,
 "nbformat_minor": 5
}
